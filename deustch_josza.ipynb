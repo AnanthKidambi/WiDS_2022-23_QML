{
 "cells": [
  {
   "attachments": {},
   "cell_type": "markdown",
   "metadata": {},
   "source": [
    "<h3 style=\"text-align: center; color: yellow\">Part 1</h3>"
   ]
  },
  {
   "cell_type": "code",
   "execution_count": 3,
   "metadata": {},
   "outputs": [],
   "source": [
    "import numpy as np\n",
    "from typing import Callable\n",
    "\n",
    "def cl_dj(func: Callable[[int], bool], n: int) -> str:\n",
    "    out = np.array([func(i) for i in np.arange(0, 2**n)])\n",
    "    zeros = len(out[out == True])\n",
    "    ones = len(out) - zeros\n",
    "    if(zeros == ones): return \"balanced\"\n",
    "    elif(zeros): return \"zero\"\n",
    "    else: return \"one\""
   ]
  },
  {
   "attachments": {},
   "cell_type": "markdown",
   "metadata": {},
   "source": [
    "<h3 style=\"text-align: center; color: yellow\">Part 2</h3>"
   ]
  },
  {
   "cell_type": "code",
   "execution_count": 240,
   "metadata": {},
   "outputs": [],
   "source": [
    "import numpy as np\n",
    "from qiskit import QuantumCircuit\n",
    "from qiskit import QuantumRegister\n",
    "from typing import Callable\n",
    "from qiskit.quantum_info import Statevector\n",
    "\n",
    "def quantum_ds(oracle: QuantumCircuit, n: int) -> str:\n",
    "    circ = QuantumCircuit(n+1)\n",
    "    for i in range(n+1):\n",
    "        circ.h(i)\n",
    "    circ.barrier()\n",
    "    circ.compose(oracle, inplace = True)\n",
    "    circ.barrier()\n",
    "    for i in range(n):\n",
    "        circ.h(i)\n",
    "    init_state = Statevector.from_int(2**(n), 2**(n+1))\n",
    "    final_state = init_state.evolve(circ)\n",
    "    ans = final_state.measure()[0][1:]\n",
    "    if ans != '0'*n:\n",
    "        return 'balanced'\n",
    "    else:\n",
    "        ans_state = init_state.evolve(oracle)\n",
    "        ans = ans_state.measure()[0][0]\n",
    "        if ans == '1': return 'zero'\n",
    "        else: return 'one'"
   ]
  },
  {
   "attachments": {},
   "cell_type": "markdown",
   "metadata": {},
   "source": [
    "<h5> Testing Code </h5>"
   ]
  },
  {
   "cell_type": "code",
   "execution_count": 268,
   "metadata": {},
   "outputs": [
    {
     "name": "stdout",
     "output_type": "stream",
     "text": [
      "zero oracle:  zero\n",
      "one oracle:  one\n",
      "balanced oracle:  balanced\n"
     ]
    }
   ],
   "source": [
    "n = 3\n",
    "\n",
    "# constant oracles\n",
    "zero_oracle = QuantumCircuit(n+1)\n",
    "print(\"zero oracle: \", quantum_ds(zero_oracle, n))\n",
    "one_oracle = QuantumCircuit(n+1)\n",
    "one_oracle.x(n)\n",
    "print(\"one oracle: \", quantum_ds(one_oracle, n))\n",
    "\n",
    "#balanced oracle\n",
    "bal_oracle = QuantumCircuit(n+1)\n",
    "num_cnot = 0\n",
    "for i in range(n):\n",
    "    if np.random.randint(2) == 1:\n",
    "        bal_oracle.cx(i, n)\n",
    "        num_cnot += 1\n",
    "if not num_cnot: bal_oracle.cx(np.random.randint(n), n)\n",
    "print(\"balanced oracle: \", quantum_ds(bal_oracle, n))"
   ]
  },
  {
   "attachments": {},
   "cell_type": "markdown",
   "metadata": {},
   "source": [
    "<h3 style=\"text-align: center; color: yellow\"> Part 3 </h3>"
   ]
  },
  {
   "cell_type": "code",
   "execution_count": null,
   "metadata": {},
   "outputs": [],
   "source": [
    "import numpy as np\n",
    "from typing import Callable\n",
    "\n",
    "def random_ds(func: Callable[[int], bool], n: int, tries: int) -> str:\n",
    "    assert(tries > 1)\n",
    "    prev = -1\n",
    "    for i in range(tries):\n",
    "        res = func(np.random.randint(2**n))\n",
    "        if prev != -1 and res != prev:\n",
    "            return \"balanced\"\n",
    "    if prev: return \"one\"\n",
    "    else: return \"zero\""
   ]
  }
 ],
 "metadata": {
  "kernelspec": {
   "display_name": "Python 3",
   "language": "python",
   "name": "python3"
  },
  "language_info": {
   "codemirror_mode": {
    "name": "ipython",
    "version": 3
   },
   "file_extension": ".py",
   "mimetype": "text/x-python",
   "name": "python",
   "nbconvert_exporter": "python",
   "pygments_lexer": "ipython3",
   "version": "3.11.0 (main, Nov  2 2022, 00:17:36) [GCC 9.4.0]"
  },
  "orig_nbformat": 4,
  "vscode": {
   "interpreter": {
    "hash": "aee8b7b246df8f9039afb4144a1f6fd8d2ca17a180786b69acc140d282b71a49"
   }
  }
 },
 "nbformat": 4,
 "nbformat_minor": 2
}
