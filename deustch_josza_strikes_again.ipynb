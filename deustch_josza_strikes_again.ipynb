{
 "cells": [
  {
   "cell_type": "code",
   "execution_count": null,
   "metadata": {},
   "outputs": [],
   "source": [
    "import sys\n",
    "from pennylane import numpy as np\n",
    "import pennylane as qml\n",
    "from pennylane.wires import Wires\n",
    "from typing import Callable"
   ]
  },
  {
   "cell_type": "code",
   "execution_count": null,
   "metadata": {},
   "outputs": [],
   "source": [
    "def deutsch_jozsa(fs: \"list[Callable[[list], None]]\") -> str:\n",
    "    \"\"\"Function that determines whether four given functions are all of the same type or not.\n",
    "    Args:\n",
    "        - fs (list(function)): A list of 4 quantum functions. Each of them will accept a 'wires' parameter.\n",
    "        The first two wires refer to the input and the third to the output of the function.\n",
    "    Returns:\n",
    "        - (str) : \"4 same\" or \"2 and 2\"\n",
    "    \"\"\"\n",
    "    dev = qml.device(name = \"default.qubit\", wires = 5)\n",
    "\n",
    "    @qml.qnode(dev)\n",
    "    def oracle(fs: \"list[Callable[[list], None]]\") -> None:\n",
    "        qml.MultiControlledX(wires=[0, 1, 4], control_values=\"00\")\n",
    "        qml.Hadamard(2)\n",
    "        qml.Hadamard(3)\n",
    "        qml.Hadamard(4)\n",
    "        fs[0](dev)\n",
    "        qml.Hadamard(2)\n",
    "        qml.Hadamard(3)\n",
    "        qml.Hadamard(4)\n",
    "        qml.MultiControlledX(wires=[0, 1, 4], control_values=\"00\")\n",
    "        qml.MultiControlledX(wires=[0, 1, 4], control_values=\"01\")\n",
    "        qml.Hadamard(2)\n",
    "        qml.Hadamard(3)\n",
    "        qml.Hadamard(4)\n",
    "        fs[1](dev)\n",
    "        qml.Hadamard(2)\n",
    "        qml.Hadamard(3)\n",
    "        qml.Hadamard(4)\n",
    "        qml.MultiControlledX(wires=[0, 1, 4], control_values=\"01\")\n",
    "        qml.MultiControlledX(wires=[0, 1, 4], control_values=\"10\")\n",
    "        qml.Hadamard(2)\n",
    "        qml.Hadamard(3)\n",
    "        qml.Hadamard(4)\n",
    "        fs[2](dev)\n",
    "        qml.Hadamard(2)\n",
    "        qml.Hadamard(3)\n",
    "        qml.Hadamard(4)\n",
    "        qml.MultiControlledX(wires=[0, 1, 4], control_values=\"10\")\n",
    "        qml.MultiControlledX(wires=[0, 1, 4], control_values=\"11\")\n",
    "        qml.Hadamard(2)\n",
    "        qml.Hadamard(3)\n",
    "        qml.Hadamard(4)\n",
    "        fs[3](dev)\n",
    "        qml.Hadamard(2)\n",
    "        qml.Hadamard(3)\n",
    "        qml.Hadamard(4)\n",
    "        qml.MultiControlledX(wires=[0, 1, 4], control_values=\"11\")\n",
    "        qml.X(4)\n",
    "        qml.MultiControlledX(wires=[2, 3, 4], control_values=\"00\")\n",
    "    qml.X(4)\n",
    "    qml.Hadamard(0)\n",
    "    qml.Hadamard(1)\n",
    "    qml.Hadamard(2)\n",
    "    oracle(fs)\n",
    "    qml.Hadamard(0)\n",
    "    qml.Hadamard(1)\n",
    "    meas = qml.measure([0, 1])\n",
    "    \n",
    "\n",
    "    return \"\""
   ]
  },
  {
   "cell_type": "code",
   "execution_count": null,
   "metadata": {},
   "outputs": [],
   "source": [
    "if __name__ == \"__main__\":\n",
    "    # DO NOT MODIFY anything in this code block\n",
    "    # inputs = sys.stdin.read().split(\",\")\n",
    "    # numbers = [int(i) for i in inputs]\n",
    "    numbers = [0, 1, 2, 3, 4, 5, 6, 7]\n",
    "\n",
    "    # Definition of the four oracles we will work with.\n",
    "\n",
    "    def f1(wires):\n",
    "        qml.CNOT(wires=[wires[numbers[0]], wires[2]])\n",
    "        qml.CNOT(wires=[wires[numbers[1]], wires[2]])\n",
    "\n",
    "    def f2(wires):\n",
    "        qml.CNOT(wires=[wires[numbers[2]], wires[2]])\n",
    "        qml.CNOT(wires=[wires[numbers[3]], wires[2]])\n",
    "\n",
    "    def f3(wires):\n",
    "        qml.CNOT(wires=[wires[numbers[4]], wires[2]])\n",
    "        qml.CNOT(wires=[wires[numbers[5]], wires[2]])\n",
    "        qml.PauliX(wires=wires[2])\n",
    "\n",
    "    def f4(wires):\n",
    "        qml.CNOT(wires=[wires[numbers[6]], wires[2]])\n",
    "        qml.CNOT(wires=[wires[numbers[7]], wires[2]])\n",
    "        qml.PauliX(wires=wires[2])\n",
    "\n",
    "    output = deutsch_jozsa([f1, f2, f3, f4])\n",
    "    print(f\"{output}\")"
   ]
  }
 ],
 "metadata": {
  "kernelspec": {
   "display_name": "Python 3",
   "language": "python",
   "name": "python3"
  },
  "language_info": {
   "codemirror_mode": {
    "name": "ipython",
    "version": 3
   },
   "file_extension": ".py",
   "mimetype": "text/x-python",
   "name": "python",
   "nbconvert_exporter": "python",
   "pygments_lexer": "ipython3",
   "version": "3.8.10"
  },
  "orig_nbformat": 4,
  "vscode": {
   "interpreter": {
    "hash": "916dbcbb3f70747c44a77c7bcd40155683ae19c65e1c03b4aa3499c5328201f1"
   }
  }
 },
 "nbformat": 4,
 "nbformat_minor": 2
}
